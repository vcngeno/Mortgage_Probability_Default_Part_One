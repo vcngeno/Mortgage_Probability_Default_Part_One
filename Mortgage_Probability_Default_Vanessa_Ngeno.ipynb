{
  "nbformat": 4,
  "nbformat_minor": 0,
  "metadata": {
    "colab": {
      "provenance": [],
      "authorship_tag": "ABX9TyMmvLrwycm0tODwpQrr3Zxf",
      "include_colab_link": true
    },
    "kernelspec": {
      "name": "python3",
      "display_name": "Python 3"
    },
    "language_info": {
      "name": "python"
    }
  },
  "cells": [
    {
      "cell_type": "markdown",
      "metadata": {
        "id": "view-in-github",
        "colab_type": "text"
      },
      "source": [
        "<a href=\"https://colab.research.google.com/github/vcngeno/Mortgage_Probability_Default_Part_One/blob/main/Mortgage_Probability_Default_Vanessa_Ngeno.ipynb\" target=\"_parent\"><img src=\"https://colab.research.google.com/assets/colab-badge.svg\" alt=\"Open In Colab\"/></a>"
      ]
    },
    {
      "cell_type": "markdown",
      "source": [
        "##Data Pre-processing"
      ],
      "metadata": {
        "id": "XigDj-_ZUXCt"
      }
    },
    {
      "cell_type": "code",
      "execution_count": null,
      "metadata": {
        "colab": {
          "base_uri": "https://localhost:8080/"
        },
        "id": "5M5mQ5cSSvk-",
        "outputId": "62d30ac3-4ea6-4932-da22-fb65e7dd2162"
      },
      "outputs": [
        {
          "output_type": "stream",
          "name": "stdout",
          "text": [
            "Requirement already satisfied: category_encoders in /usr/local/lib/python3.11/dist-packages (2.8.1)\n",
            "Requirement already satisfied: numpy>=1.14.0 in /usr/local/lib/python3.11/dist-packages (from category_encoders) (2.0.2)\n",
            "Requirement already satisfied: pandas>=1.0.5 in /usr/local/lib/python3.11/dist-packages (from category_encoders) (2.2.2)\n",
            "Requirement already satisfied: patsy>=0.5.1 in /usr/local/lib/python3.11/dist-packages (from category_encoders) (1.0.1)\n",
            "Requirement already satisfied: scikit-learn>=1.6.0 in /usr/local/lib/python3.11/dist-packages (from category_encoders) (1.6.1)\n",
            "Requirement already satisfied: scipy>=1.0.0 in /usr/local/lib/python3.11/dist-packages (from category_encoders) (1.14.1)\n",
            "Requirement already satisfied: statsmodels>=0.9.0 in /usr/local/lib/python3.11/dist-packages (from category_encoders) (0.14.4)\n",
            "Requirement already satisfied: python-dateutil>=2.8.2 in /usr/local/lib/python3.11/dist-packages (from pandas>=1.0.5->category_encoders) (2.8.2)\n",
            "Requirement already satisfied: pytz>=2020.1 in /usr/local/lib/python3.11/dist-packages (from pandas>=1.0.5->category_encoders) (2025.2)\n",
            "Requirement already satisfied: tzdata>=2022.7 in /usr/local/lib/python3.11/dist-packages (from pandas>=1.0.5->category_encoders) (2025.2)\n",
            "Requirement already satisfied: joblib>=1.2.0 in /usr/local/lib/python3.11/dist-packages (from scikit-learn>=1.6.0->category_encoders) (1.4.2)\n",
            "Requirement already satisfied: threadpoolctl>=3.1.0 in /usr/local/lib/python3.11/dist-packages (from scikit-learn>=1.6.0->category_encoders) (3.6.0)\n",
            "Requirement already satisfied: packaging>=21.3 in /usr/local/lib/python3.11/dist-packages (from statsmodels>=0.9.0->category_encoders) (24.2)\n",
            "Requirement already satisfied: six>=1.5 in /usr/local/lib/python3.11/dist-packages (from python-dateutil>=2.8.2->pandas>=1.0.5->category_encoders) (1.17.0)\n"
          ]
        }
      ],
      "source": [
        "import pandas as pd\n",
        "import numpy as np\n",
        "from sklearn.model_selection import train_test_split, GridSearchCV\n",
        "from sklearn.tree import DecisionTreeClassifier\n",
        "from sklearn.metrics import classification_report\n",
        "from sklearn.compose import ColumnTransformer\n",
        "from sklearn.preprocessing import OneHotEncoder, FunctionTransformer\n",
        "from sklearn.pipeline import Pipeline\n",
        "!pip install category_encoders\n",
        "from category_encoders import TargetEncoder"
      ]
    },
    {
      "cell_type": "code",
      "source": [
        "df = pd.read_csv('/content/XYZloan_default_selected_vars.csv')\n",
        "df.head(5)"
      ],
      "metadata": {
        "colab": {
          "base_uri": "https://localhost:8080/",
          "height": 360
        },
        "id": "GkJwXZiwTs7v",
        "outputId": "7c658cbf-61b4-4ba9-908e-934f8d3b10d1"
      },
      "execution_count": null,
      "outputs": [
        {
          "output_type": "execute_result",
          "data": {
            "text/plain": [
              "   Unnamed: 0.1  Unnamed: 0  id  loan_default  AP001  AP002  AP003  AP004  \\\n",
              "0             0           1   1             1     31      2      1     12   \n",
              "1             1           2   2             0     27      1      1     12   \n",
              "2             2           3   3             0     33      1      4     12   \n",
              "3             3           4   4             0     34      2      4     12   \n",
              "4             4           5   5             0     47      2      1     12   \n",
              "\n",
              "            AP005    AP006  ...  CD162  CD164  CD166  CD167   CD169   CD170  \\\n",
              "0  2017/7/6 10:21      ios  ...   13.0   13.0    0.0    0.0  1449.0  1449.0   \n",
              "1  2017/4/6 12:51       h5  ...  -99.0  -99.0  -99.0  -99.0   -99.0   -99.0   \n",
              "2  2017/7/1 14:11       h5  ...    3.0    2.0   33.0    0.0    33.0     0.0   \n",
              "3  2017/7/7 10:10  android  ...    0.0    0.0    0.0    0.0     0.0     0.0   \n",
              "4  2017/7/6 14:37       h5  ...  -99.0  -99.0  -99.0  -99.0   -99.0   -99.0   \n",
              "\n",
              "    CD172   CD173  MB005    MB007  \n",
              "0  2249.0  2249.0    7.0  IPHONE7  \n",
              "1   -99.0   -99.0    NaN      WEB  \n",
              "2   143.0   110.0    8.0      WEB  \n",
              "3     0.0     0.0   10.0     OPPO  \n",
              "4   -99.0   -99.0    NaN      WEB  \n",
              "\n",
              "[5 rows x 89 columns]"
            ],
            "text/html": [
              "\n",
              "  <div id=\"df-0206d150-b2ea-4481-aa11-5e3223139fd2\" class=\"colab-df-container\">\n",
              "    <div>\n",
              "<style scoped>\n",
              "    .dataframe tbody tr th:only-of-type {\n",
              "        vertical-align: middle;\n",
              "    }\n",
              "\n",
              "    .dataframe tbody tr th {\n",
              "        vertical-align: top;\n",
              "    }\n",
              "\n",
              "    .dataframe thead th {\n",
              "        text-align: right;\n",
              "    }\n",
              "</style>\n",
              "<table border=\"1\" class=\"dataframe\">\n",
              "  <thead>\n",
              "    <tr style=\"text-align: right;\">\n",
              "      <th></th>\n",
              "      <th>Unnamed: 0.1</th>\n",
              "      <th>Unnamed: 0</th>\n",
              "      <th>id</th>\n",
              "      <th>loan_default</th>\n",
              "      <th>AP001</th>\n",
              "      <th>AP002</th>\n",
              "      <th>AP003</th>\n",
              "      <th>AP004</th>\n",
              "      <th>AP005</th>\n",
              "      <th>AP006</th>\n",
              "      <th>...</th>\n",
              "      <th>CD162</th>\n",
              "      <th>CD164</th>\n",
              "      <th>CD166</th>\n",
              "      <th>CD167</th>\n",
              "      <th>CD169</th>\n",
              "      <th>CD170</th>\n",
              "      <th>CD172</th>\n",
              "      <th>CD173</th>\n",
              "      <th>MB005</th>\n",
              "      <th>MB007</th>\n",
              "    </tr>\n",
              "  </thead>\n",
              "  <tbody>\n",
              "    <tr>\n",
              "      <th>0</th>\n",
              "      <td>0</td>\n",
              "      <td>1</td>\n",
              "      <td>1</td>\n",
              "      <td>1</td>\n",
              "      <td>31</td>\n",
              "      <td>2</td>\n",
              "      <td>1</td>\n",
              "      <td>12</td>\n",
              "      <td>2017/7/6 10:21</td>\n",
              "      <td>ios</td>\n",
              "      <td>...</td>\n",
              "      <td>13.0</td>\n",
              "      <td>13.0</td>\n",
              "      <td>0.0</td>\n",
              "      <td>0.0</td>\n",
              "      <td>1449.0</td>\n",
              "      <td>1449.0</td>\n",
              "      <td>2249.0</td>\n",
              "      <td>2249.0</td>\n",
              "      <td>7.0</td>\n",
              "      <td>IPHONE7</td>\n",
              "    </tr>\n",
              "    <tr>\n",
              "      <th>1</th>\n",
              "      <td>1</td>\n",
              "      <td>2</td>\n",
              "      <td>2</td>\n",
              "      <td>0</td>\n",
              "      <td>27</td>\n",
              "      <td>1</td>\n",
              "      <td>1</td>\n",
              "      <td>12</td>\n",
              "      <td>2017/4/6 12:51</td>\n",
              "      <td>h5</td>\n",
              "      <td>...</td>\n",
              "      <td>-99.0</td>\n",
              "      <td>-99.0</td>\n",
              "      <td>-99.0</td>\n",
              "      <td>-99.0</td>\n",
              "      <td>-99.0</td>\n",
              "      <td>-99.0</td>\n",
              "      <td>-99.0</td>\n",
              "      <td>-99.0</td>\n",
              "      <td>NaN</td>\n",
              "      <td>WEB</td>\n",
              "    </tr>\n",
              "    <tr>\n",
              "      <th>2</th>\n",
              "      <td>2</td>\n",
              "      <td>3</td>\n",
              "      <td>3</td>\n",
              "      <td>0</td>\n",
              "      <td>33</td>\n",
              "      <td>1</td>\n",
              "      <td>4</td>\n",
              "      <td>12</td>\n",
              "      <td>2017/7/1 14:11</td>\n",
              "      <td>h5</td>\n",
              "      <td>...</td>\n",
              "      <td>3.0</td>\n",
              "      <td>2.0</td>\n",
              "      <td>33.0</td>\n",
              "      <td>0.0</td>\n",
              "      <td>33.0</td>\n",
              "      <td>0.0</td>\n",
              "      <td>143.0</td>\n",
              "      <td>110.0</td>\n",
              "      <td>8.0</td>\n",
              "      <td>WEB</td>\n",
              "    </tr>\n",
              "    <tr>\n",
              "      <th>3</th>\n",
              "      <td>3</td>\n",
              "      <td>4</td>\n",
              "      <td>4</td>\n",
              "      <td>0</td>\n",
              "      <td>34</td>\n",
              "      <td>2</td>\n",
              "      <td>4</td>\n",
              "      <td>12</td>\n",
              "      <td>2017/7/7 10:10</td>\n",
              "      <td>android</td>\n",
              "      <td>...</td>\n",
              "      <td>0.0</td>\n",
              "      <td>0.0</td>\n",
              "      <td>0.0</td>\n",
              "      <td>0.0</td>\n",
              "      <td>0.0</td>\n",
              "      <td>0.0</td>\n",
              "      <td>0.0</td>\n",
              "      <td>0.0</td>\n",
              "      <td>10.0</td>\n",
              "      <td>OPPO</td>\n",
              "    </tr>\n",
              "    <tr>\n",
              "      <th>4</th>\n",
              "      <td>4</td>\n",
              "      <td>5</td>\n",
              "      <td>5</td>\n",
              "      <td>0</td>\n",
              "      <td>47</td>\n",
              "      <td>2</td>\n",
              "      <td>1</td>\n",
              "      <td>12</td>\n",
              "      <td>2017/7/6 14:37</td>\n",
              "      <td>h5</td>\n",
              "      <td>...</td>\n",
              "      <td>-99.0</td>\n",
              "      <td>-99.0</td>\n",
              "      <td>-99.0</td>\n",
              "      <td>-99.0</td>\n",
              "      <td>-99.0</td>\n",
              "      <td>-99.0</td>\n",
              "      <td>-99.0</td>\n",
              "      <td>-99.0</td>\n",
              "      <td>NaN</td>\n",
              "      <td>WEB</td>\n",
              "    </tr>\n",
              "  </tbody>\n",
              "</table>\n",
              "<p>5 rows × 89 columns</p>\n",
              "</div>\n",
              "    <div class=\"colab-df-buttons\">\n",
              "\n",
              "  <div class=\"colab-df-container\">\n",
              "    <button class=\"colab-df-convert\" onclick=\"convertToInteractive('df-0206d150-b2ea-4481-aa11-5e3223139fd2')\"\n",
              "            title=\"Convert this dataframe to an interactive table.\"\n",
              "            style=\"display:none;\">\n",
              "\n",
              "  <svg xmlns=\"http://www.w3.org/2000/svg\" height=\"24px\" viewBox=\"0 -960 960 960\">\n",
              "    <path d=\"M120-120v-720h720v720H120Zm60-500h600v-160H180v160Zm220 220h160v-160H400v160Zm0 220h160v-160H400v160ZM180-400h160v-160H180v160Zm440 0h160v-160H620v160ZM180-180h160v-160H180v160Zm440 0h160v-160H620v160Z\"/>\n",
              "  </svg>\n",
              "    </button>\n",
              "\n",
              "  <style>\n",
              "    .colab-df-container {\n",
              "      display:flex;\n",
              "      gap: 12px;\n",
              "    }\n",
              "\n",
              "    .colab-df-convert {\n",
              "      background-color: #E8F0FE;\n",
              "      border: none;\n",
              "      border-radius: 50%;\n",
              "      cursor: pointer;\n",
              "      display: none;\n",
              "      fill: #1967D2;\n",
              "      height: 32px;\n",
              "      padding: 0 0 0 0;\n",
              "      width: 32px;\n",
              "    }\n",
              "\n",
              "    .colab-df-convert:hover {\n",
              "      background-color: #E2EBFA;\n",
              "      box-shadow: 0px 1px 2px rgba(60, 64, 67, 0.3), 0px 1px 3px 1px rgba(60, 64, 67, 0.15);\n",
              "      fill: #174EA6;\n",
              "    }\n",
              "\n",
              "    .colab-df-buttons div {\n",
              "      margin-bottom: 4px;\n",
              "    }\n",
              "\n",
              "    [theme=dark] .colab-df-convert {\n",
              "      background-color: #3B4455;\n",
              "      fill: #D2E3FC;\n",
              "    }\n",
              "\n",
              "    [theme=dark] .colab-df-convert:hover {\n",
              "      background-color: #434B5C;\n",
              "      box-shadow: 0px 1px 3px 1px rgba(0, 0, 0, 0.15);\n",
              "      filter: drop-shadow(0px 1px 2px rgba(0, 0, 0, 0.3));\n",
              "      fill: #FFFFFF;\n",
              "    }\n",
              "  </style>\n",
              "\n",
              "    <script>\n",
              "      const buttonEl =\n",
              "        document.querySelector('#df-0206d150-b2ea-4481-aa11-5e3223139fd2 button.colab-df-convert');\n",
              "      buttonEl.style.display =\n",
              "        google.colab.kernel.accessAllowed ? 'block' : 'none';\n",
              "\n",
              "      async function convertToInteractive(key) {\n",
              "        const element = document.querySelector('#df-0206d150-b2ea-4481-aa11-5e3223139fd2');\n",
              "        const dataTable =\n",
              "          await google.colab.kernel.invokeFunction('convertToInteractive',\n",
              "                                                    [key], {});\n",
              "        if (!dataTable) return;\n",
              "\n",
              "        const docLinkHtml = 'Like what you see? Visit the ' +\n",
              "          '<a target=\"_blank\" href=https://colab.research.google.com/notebooks/data_table.ipynb>data table notebook</a>'\n",
              "          + ' to learn more about interactive tables.';\n",
              "        element.innerHTML = '';\n",
              "        dataTable['output_type'] = 'display_data';\n",
              "        await google.colab.output.renderOutput(dataTable, element);\n",
              "        const docLink = document.createElement('div');\n",
              "        docLink.innerHTML = docLinkHtml;\n",
              "        element.appendChild(docLink);\n",
              "      }\n",
              "    </script>\n",
              "  </div>\n",
              "\n",
              "\n",
              "<div id=\"df-eec89745-0bb7-4952-afc0-4d7d1a131267\">\n",
              "  <button class=\"colab-df-quickchart\" onclick=\"quickchart('df-eec89745-0bb7-4952-afc0-4d7d1a131267')\"\n",
              "            title=\"Suggest charts\"\n",
              "            style=\"display:none;\">\n",
              "\n",
              "<svg xmlns=\"http://www.w3.org/2000/svg\" height=\"24px\"viewBox=\"0 0 24 24\"\n",
              "     width=\"24px\">\n",
              "    <g>\n",
              "        <path d=\"M19 3H5c-1.1 0-2 .9-2 2v14c0 1.1.9 2 2 2h14c1.1 0 2-.9 2-2V5c0-1.1-.9-2-2-2zM9 17H7v-7h2v7zm4 0h-2V7h2v10zm4 0h-2v-4h2v4z\"/>\n",
              "    </g>\n",
              "</svg>\n",
              "  </button>\n",
              "\n",
              "<style>\n",
              "  .colab-df-quickchart {\n",
              "      --bg-color: #E8F0FE;\n",
              "      --fill-color: #1967D2;\n",
              "      --hover-bg-color: #E2EBFA;\n",
              "      --hover-fill-color: #174EA6;\n",
              "      --disabled-fill-color: #AAA;\n",
              "      --disabled-bg-color: #DDD;\n",
              "  }\n",
              "\n",
              "  [theme=dark] .colab-df-quickchart {\n",
              "      --bg-color: #3B4455;\n",
              "      --fill-color: #D2E3FC;\n",
              "      --hover-bg-color: #434B5C;\n",
              "      --hover-fill-color: #FFFFFF;\n",
              "      --disabled-bg-color: #3B4455;\n",
              "      --disabled-fill-color: #666;\n",
              "  }\n",
              "\n",
              "  .colab-df-quickchart {\n",
              "    background-color: var(--bg-color);\n",
              "    border: none;\n",
              "    border-radius: 50%;\n",
              "    cursor: pointer;\n",
              "    display: none;\n",
              "    fill: var(--fill-color);\n",
              "    height: 32px;\n",
              "    padding: 0;\n",
              "    width: 32px;\n",
              "  }\n",
              "\n",
              "  .colab-df-quickchart:hover {\n",
              "    background-color: var(--hover-bg-color);\n",
              "    box-shadow: 0 1px 2px rgba(60, 64, 67, 0.3), 0 1px 3px 1px rgba(60, 64, 67, 0.15);\n",
              "    fill: var(--button-hover-fill-color);\n",
              "  }\n",
              "\n",
              "  .colab-df-quickchart-complete:disabled,\n",
              "  .colab-df-quickchart-complete:disabled:hover {\n",
              "    background-color: var(--disabled-bg-color);\n",
              "    fill: var(--disabled-fill-color);\n",
              "    box-shadow: none;\n",
              "  }\n",
              "\n",
              "  .colab-df-spinner {\n",
              "    border: 2px solid var(--fill-color);\n",
              "    border-color: transparent;\n",
              "    border-bottom-color: var(--fill-color);\n",
              "    animation:\n",
              "      spin 1s steps(1) infinite;\n",
              "  }\n",
              "\n",
              "  @keyframes spin {\n",
              "    0% {\n",
              "      border-color: transparent;\n",
              "      border-bottom-color: var(--fill-color);\n",
              "      border-left-color: var(--fill-color);\n",
              "    }\n",
              "    20% {\n",
              "      border-color: transparent;\n",
              "      border-left-color: var(--fill-color);\n",
              "      border-top-color: var(--fill-color);\n",
              "    }\n",
              "    30% {\n",
              "      border-color: transparent;\n",
              "      border-left-color: var(--fill-color);\n",
              "      border-top-color: var(--fill-color);\n",
              "      border-right-color: var(--fill-color);\n",
              "    }\n",
              "    40% {\n",
              "      border-color: transparent;\n",
              "      border-right-color: var(--fill-color);\n",
              "      border-top-color: var(--fill-color);\n",
              "    }\n",
              "    60% {\n",
              "      border-color: transparent;\n",
              "      border-right-color: var(--fill-color);\n",
              "    }\n",
              "    80% {\n",
              "      border-color: transparent;\n",
              "      border-right-color: var(--fill-color);\n",
              "      border-bottom-color: var(--fill-color);\n",
              "    }\n",
              "    90% {\n",
              "      border-color: transparent;\n",
              "      border-bottom-color: var(--fill-color);\n",
              "    }\n",
              "  }\n",
              "</style>\n",
              "\n",
              "  <script>\n",
              "    async function quickchart(key) {\n",
              "      const quickchartButtonEl =\n",
              "        document.querySelector('#' + key + ' button');\n",
              "      quickchartButtonEl.disabled = true;  // To prevent multiple clicks.\n",
              "      quickchartButtonEl.classList.add('colab-df-spinner');\n",
              "      try {\n",
              "        const charts = await google.colab.kernel.invokeFunction(\n",
              "            'suggestCharts', [key], {});\n",
              "      } catch (error) {\n",
              "        console.error('Error during call to suggestCharts:', error);\n",
              "      }\n",
              "      quickchartButtonEl.classList.remove('colab-df-spinner');\n",
              "      quickchartButtonEl.classList.add('colab-df-quickchart-complete');\n",
              "    }\n",
              "    (() => {\n",
              "      let quickchartButtonEl =\n",
              "        document.querySelector('#df-eec89745-0bb7-4952-afc0-4d7d1a131267 button');\n",
              "      quickchartButtonEl.style.display =\n",
              "        google.colab.kernel.accessAllowed ? 'block' : 'none';\n",
              "    })();\n",
              "  </script>\n",
              "</div>\n",
              "\n",
              "    </div>\n",
              "  </div>\n"
            ],
            "application/vnd.google.colaboratory.intrinsic+json": {
              "type": "dataframe",
              "variable_name": "df"
            }
          },
          "metadata": {},
          "execution_count": 2
        }
      ]
    },
    {
      "cell_type": "code",
      "source": [
        "# Print columns to debug\n",
        "print(\"Columns in df:\", df.columns)"
      ],
      "metadata": {
        "colab": {
          "base_uri": "https://localhost:8080/"
        },
        "id": "cb_2orKQYpgA",
        "outputId": "57b4fc21-33ae-49e2-a586-67bbd518c038"
      },
      "execution_count": null,
      "outputs": [
        {
          "output_type": "stream",
          "name": "stdout",
          "text": [
            "Columns in df: Index(['Unnamed: 0.1', 'Unnamed: 0', 'id', 'loan_default', 'AP001', 'AP002',\n",
            "       'AP003', 'AP004', 'AP005', 'AP006', 'AP007', 'AP008', 'AP009', 'TD001',\n",
            "       'TD002', 'TD005', 'TD006', 'TD009', 'TD010', 'TD013', 'TD014', 'TD015',\n",
            "       'TD022', 'TD023', 'TD024', 'TD025', 'TD026', 'TD027', 'TD028', 'TD029',\n",
            "       'TD044', 'TD048', 'TD051', 'TD054', 'TD055', 'TD061', 'TD062', 'CR004',\n",
            "       'CR005', 'CR009', 'CR012', 'CR015', 'CR017', 'CR018', 'CR019', 'PA022',\n",
            "       'PA023', 'PA028', 'PA029', 'PA030', 'PA031', 'CD008', 'CD018', 'CD071',\n",
            "       'CD072', 'CD088', 'CD100', 'CD101', 'CD106', 'CD107', 'CD108', 'CD113',\n",
            "       'CD114', 'CD115', 'CD117', 'CD118', 'CD120', 'CD121', 'CD123', 'CD130',\n",
            "       'CD131', 'CD132', 'CD133', 'CD135', 'CD136', 'CD137', 'CD152', 'CD153',\n",
            "       'CD160', 'CD162', 'CD164', 'CD166', 'CD167', 'CD169', 'CD170', 'CD172',\n",
            "       'CD173', 'MB005', 'MB007'],\n",
            "      dtype='object')\n"
          ]
        }
      ]
    },
    {
      "cell_type": "markdown",
      "source": [
        "# Feature Engineering"
      ],
      "metadata": {
        "id": "04myHd6TZZYH"
      }
    },
    {
      "cell_type": "code",
      "source": [
        "print(\"Columns in df:\", df.columns)\n",
        "print(\"Data types:\\n\", df.dtypes)"
      ],
      "metadata": {
        "colab": {
          "base_uri": "https://localhost:8080/"
        },
        "id": "EFkLetTfdI9O",
        "outputId": "83b9b46e-2099-4306-9ec0-ae04a9f72954"
      },
      "execution_count": null,
      "outputs": [
        {
          "output_type": "stream",
          "name": "stdout",
          "text": [
            "Columns in df: Index(['Unnamed: 0.1', 'Unnamed: 0', 'id', 'loan_default', 'AP001', 'AP002',\n",
            "       'AP003', 'AP004', 'AP005', 'AP006', 'AP007', 'AP008', 'AP009', 'TD001',\n",
            "       'TD002', 'TD005', 'TD006', 'TD009', 'TD010', 'TD013', 'TD014', 'TD015',\n",
            "       'TD022', 'TD023', 'TD024', 'TD025', 'TD026', 'TD027', 'TD028', 'TD029',\n",
            "       'TD044', 'TD048', 'TD051', 'TD054', 'TD055', 'TD061', 'TD062', 'CR004',\n",
            "       'CR005', 'CR009', 'CR012', 'CR015', 'CR017', 'CR018', 'CR019', 'PA022',\n",
            "       'PA023', 'PA028', 'PA029', 'PA030', 'PA031', 'CD008', 'CD018', 'CD071',\n",
            "       'CD072', 'CD088', 'CD100', 'CD101', 'CD106', 'CD107', 'CD108', 'CD113',\n",
            "       'CD114', 'CD115', 'CD117', 'CD118', 'CD120', 'CD121', 'CD123', 'CD130',\n",
            "       'CD131', 'CD132', 'CD133', 'CD135', 'CD136', 'CD137', 'CD152', 'CD153',\n",
            "       'CD160', 'CD162', 'CD164', 'CD166', 'CD167', 'CD169', 'CD170', 'CD172',\n",
            "       'CD173', 'MB005', 'MB007'],\n",
            "      dtype='object')\n",
            "Data types:\n",
            " Unnamed: 0.1      int64\n",
            "Unnamed: 0        int64\n",
            "id                int64\n",
            "loan_default      int64\n",
            "AP001             int64\n",
            "                 ...   \n",
            "CD170           float64\n",
            "CD172           float64\n",
            "CD173           float64\n",
            "MB005           float64\n",
            "MB007            object\n",
            "Length: 89, dtype: object\n"
          ]
        }
      ]
    },
    {
      "cell_type": "markdown",
      "source": [
        "## Drop irrelevant columns"
      ],
      "metadata": {
        "id": "oVkwT1zXZ_S0"
      }
    },
    {
      "cell_type": "code",
      "source": [
        "df = df.drop(['Unnamed: 0.1'], axis=1, errors='ignore')"
      ],
      "metadata": {
        "id": "W_fQ5KG1Zjk8"
      },
      "execution_count": null,
      "outputs": []
    },
    {
      "cell_type": "markdown",
      "source": [
        "## Clean AP006 (OS_TYPE)"
      ],
      "metadata": {
        "id": "lx0MoUECaDEf"
      }
    },
    {
      "cell_type": "code",
      "source": [
        "if 'AP006' in df.columns:\n",
        "    valid_platforms = ['ios', 'android', 'h5', 'api']\n",
        "    df['AP006_clean'] = df['AP006'].apply(lambda x: x if x in valid_platforms else 'other')\n",
        "else:\n",
        "    df['AP006_clean'] = 'missing'\n",
        "    print(\"Warning: AP006 not found, setting AP006_clean to 'missing'\")"
      ],
      "metadata": {
        "id": "X-2RCtbsZxB4"
      },
      "execution_count": null,
      "outputs": []
    },
    {
      "cell_type": "markdown",
      "source": [
        "\n",
        "## Bin MB005 (YR_PHONE_ACTIVE) as a substitute for MB006\n"
      ],
      "metadata": {
        "id": "j6n1Ai0YaKPk"
      }
    },
    {
      "cell_type": "code",
      "source": [
        "if 'MB005' in df.columns:\n",
        "    df['MB005_cat'] = pd.cut(df['MB005'], bins=[-float('inf'), 0, 2, 5, float('inf')],\n",
        "                             labels=['new', 'recent', 'established', 'old'], right=False)\n",
        "else:\n",
        "    df['MB005_cat'] = 'missing'\n",
        "    print(\"Warning: MB005 not found, setting MB005_cat to 'missing'\")"
      ],
      "metadata": {
        "id": "aKhy-Xu-aIg5"
      },
      "execution_count": null,
      "outputs": []
    },
    {
      "cell_type": "markdown",
      "source": [
        "## Bin continuous features"
      ],
      "metadata": {
        "id": "tti2qvewZ8AJ"
      }
    },
    {
      "cell_type": "code",
      "source": [
        "def categorize_cr009(x):\n",
        "    # Handle scalar input directly\n",
        "    if x == -999:  # Handle missing values\n",
        "        return 'missing'\n",
        "    if x == -98:\n",
        "        return 'no_credit_history'\n",
        "    elif x == 0:\n",
        "        return 'no_loans'\n",
        "    elif x <= 10000:\n",
        "        return 'low'\n",
        "    elif x <= 50000:\n",
        "        return 'medium'\n",
        "    else:\n",
        "        return 'high'\n",
        "\n",
        "def categorize_pa022(x):\n",
        "    # Handle scalar input directly\n",
        "    if x == -999:  # Handle missing values\n",
        "        return 'missing'\n",
        "    if x == -99:\n",
        "        return 'not_applicable'\n",
        "    elif x == 0:\n",
        "        return 'no_calls'\n",
        "    elif x <= 7:\n",
        "        return 'recent'\n",
        "    elif x <= 30:\n",
        "        return 'short_term'\n",
        "    else:\n",
        "        return 'long_term'"
      ],
      "metadata": {
        "id": "brYiGpmbZ2hH"
      },
      "execution_count": null,
      "outputs": []
    },
    {
      "cell_type": "markdown",
      "source": [
        "## Apply binning only if columns exist"
      ],
      "metadata": {
        "id": "j3Roq7JfaWFZ"
      }
    },
    {
      "cell_type": "code",
      "source": [
        "if 'AP001' in df.columns:\n",
        "    df['AP001_cat'] = pd.cut(df['AP001'], bins=[0, 25, 35, 50, float('inf')],\n",
        "                             labels=['young', 'young_adult', 'middle_aged', 'senior'], right=False)\n",
        "else:\n",
        "    df['AP001_cat'] = 'missing'\n",
        "    print(\"Warning: AP001 not found\")\n",
        "\n",
        "if 'CR009' in df.columns:\n",
        "    df['CR009_cat'] = df['CR009'].apply(categorize_cr009)\n",
        "else:\n",
        "    df['CR009_cat'] = 'missing'\n",
        "    print(\"Warning: CR009 not found\")\n",
        "\n",
        "if 'PA022' in df.columns:\n",
        "    df['PA022_cat'] = df['PA022'].apply(categorize_pa022)\n",
        "else:\n",
        "    df['PA022_cat'] = 'missing'\n",
        "    print(\"Warning: PA022 not found\")"
      ],
      "metadata": {
        "id": "aeGVydUCaUMG"
      },
      "execution_count": null,
      "outputs": []
    },
    {
      "cell_type": "markdown",
      "source": [
        "## Create a feature for total credit queries (TD columns)"
      ],
      "metadata": {
        "id": "41T5TK1qanWw"
      }
    },
    {
      "cell_type": "code",
      "source": [
        "td_cols = [col for col in df.columns if col.startswith('TD')]\n",
        "if td_cols:\n",
        "    df['total_queries'] = df[td_cols].sum(axis=1)\n",
        "    df['total_queries_cat'] = pd.cut(df['total_queries'], bins=[-1, 0, 5, 20, float('inf')],\n",
        "                                     labels=['none', 'low', 'medium', 'high'])\n",
        "else:\n",
        "    df['total_queries_cat'] = 'missing'\n",
        "    print(\"Warning: No TD columns found\")"
      ],
      "metadata": {
        "id": "TGRBIXUnajaL"
      },
      "execution_count": null,
      "outputs": []
    },
    {
      "cell_type": "markdown",
      "source": [
        "## Define features and target"
      ],
      "metadata": {
        "id": "-swTk87lXFbT"
      }
    },
    {
      "cell_type": "code",
      "source": [
        "if 'loan_default' not in df.columns:\n",
        "    raise ValueError(\"loan_default column not found in DataFrame\")\n",
        "X = df.drop('loan_default', axis=1)\n",
        "y = df['loan_default']"
      ],
      "metadata": {
        "id": "hLV7yOwHazYy"
      },
      "execution_count": null,
      "outputs": []
    },
    {
      "cell_type": "code",
      "source": [
        "# Verify columns and shapes\n",
        "print(\"Columns in X:\", X.columns)\n",
        "print(\"X_train shape before split:\", X.shape)"
      ],
      "metadata": {
        "colab": {
          "base_uri": "https://localhost:8080/"
        },
        "id": "HXOyTfGba8m5",
        "outputId": "1054fc17-e9f6-4f4d-fced-6be27ceb6a3b"
      },
      "execution_count": null,
      "outputs": [
        {
          "output_type": "stream",
          "name": "stdout",
          "text": [
            "Columns in X: Index(['Unnamed: 0', 'id', 'AP001', 'AP002', 'AP003', 'AP004', 'AP005',\n",
            "       'AP006', 'AP007', 'AP008', 'AP009', 'TD001', 'TD002', 'TD005', 'TD006',\n",
            "       'TD009', 'TD010', 'TD013', 'TD014', 'TD015', 'TD022', 'TD023', 'TD024',\n",
            "       'TD025', 'TD026', 'TD027', 'TD028', 'TD029', 'TD044', 'TD048', 'TD051',\n",
            "       'TD054', 'TD055', 'TD061', 'TD062', 'CR004', 'CR005', 'CR009', 'CR012',\n",
            "       'CR015', 'CR017', 'CR018', 'CR019', 'PA022', 'PA023', 'PA028', 'PA029',\n",
            "       'PA030', 'PA031', 'CD008', 'CD018', 'CD071', 'CD072', 'CD088', 'CD100',\n",
            "       'CD101', 'CD106', 'CD107', 'CD108', 'CD113', 'CD114', 'CD115', 'CD117',\n",
            "       'CD118', 'CD120', 'CD121', 'CD123', 'CD130', 'CD131', 'CD132', 'CD133',\n",
            "       'CD135', 'CD136', 'CD137', 'CD152', 'CD153', 'CD160', 'CD162', 'CD164',\n",
            "       'CD166', 'CD167', 'CD169', 'CD170', 'CD172', 'CD173', 'MB005', 'MB007',\n",
            "       'AP006_clean', 'MB005_cat', 'AP001_cat', 'CR009_cat', 'PA022_cat',\n",
            "       'total_queries', 'total_queries_cat'],\n",
            "      dtype='object')\n",
            "X_train shape before split: (80000, 94)\n"
          ]
        }
      ]
    },
    {
      "cell_type": "markdown",
      "source": [
        "## Split data\n"
      ],
      "metadata": {
        "id": "nOELYvfuXAc1"
      }
    },
    {
      "cell_type": "code",
      "source": [
        "X_train, X_test, y_train, y_test = train_test_split(X, y, test_size=0.2, random_state=42, stratify=y)\n",
        "print(\"X_train shape:\", X_train.shape)\n",
        "print(\"X_test shape:\", X_test.shape)"
      ],
      "metadata": {
        "colab": {
          "base_uri": "https://localhost:8080/"
        },
        "id": "Ir07r57jURA-",
        "outputId": "32abfae3-6d52-4a7a-829c-ba4861040fc8"
      },
      "execution_count": null,
      "outputs": [
        {
          "output_type": "stream",
          "name": "stdout",
          "text": [
            "X_train shape: (64000, 94)\n",
            "X_test shape: (16000, 94)\n"
          ]
        }
      ]
    },
    {
      "cell_type": "markdown",
      "source": [
        "## Define categorical and binary columns"
      ],
      "metadata": {
        "id": "W0hMWtjPW965"
      }
    },
    {
      "cell_type": "code",
      "source": [
        "categorical_cols = ['AP006_clean', 'MB005_cat', 'AP001_cat', 'CR009_cat', 'PA022_cat', 'total_queries_cat']\n",
        "binary_cols = ['AP008', 'CR012'] if all(col in df.columns for col in ['AP008', 'CR012']) else [col for col in ['AP008', 'CR012'] if col in df.columns]"
      ],
      "metadata": {
        "id": "32--UtEZUdbQ"
      },
      "execution_count": null,
      "outputs": []
    },
    {
      "cell_type": "markdown",
      "source": [
        "## Filter categorical_cols to include only existing columns"
      ],
      "metadata": {
        "id": "gi4aLN4obYbR"
      }
    },
    {
      "cell_type": "code",
      "source": [
        "categorical_cols = [col for col in categorical_cols if col in X.columns]\n",
        "binary_cols = [col for col in binary_cols if col in X.columns]\n",
        "print(\"Categorical columns used:\", categorical_cols)\n",
        "print(\"Binary columns used:\", binary_cols)"
      ],
      "metadata": {
        "colab": {
          "base_uri": "https://localhost:8080/"
        },
        "id": "AmBz9RVzbS8F",
        "outputId": "32e3f5a2-62ff-41f1-a775-bea842084aa3"
      },
      "execution_count": null,
      "outputs": [
        {
          "output_type": "stream",
          "name": "stdout",
          "text": [
            "Categorical columns used: ['AP006_clean', 'MB005_cat', 'AP001_cat', 'CR009_cat', 'PA022_cat', 'total_queries_cat']\n",
            "Binary columns used: ['AP008', 'CR012']\n"
          ]
        }
      ]
    },
    {
      "cell_type": "markdown",
      "source": [
        "### Preprocessing pipeline"
      ],
      "metadata": {
        "id": "fFH8H6H7WuYN"
      }
    },
    {
      "cell_type": "code",
      "source": [
        "# Vectorize binning functions for FunctionTransformer\n",
        "vectorized_cr009 = np.vectorize(categorize_cr009)\n",
        "vectorized_pa022 = np.vectorize(categorize_pa022)"
      ],
      "metadata": {
        "id": "OUV_3L3whbDp"
      },
      "execution_count": null,
      "outputs": []
    },
    {
      "cell_type": "code",
      "source": [
        "# Preprocessing pipeline\n",
        "preprocessor = ColumnTransformer([\n",
        "    ('cat_onehot', OneHotEncoder(handle_unknown='ignore'), categorical_cols + binary_cols)\n",
        "])"
      ],
      "metadata": {
        "id": "IcgJ59LoWfyV"
      },
      "execution_count": null,
      "outputs": []
    },
    {
      "cell_type": "markdown",
      "source": [
        "## Decision tree pipeline"
      ],
      "metadata": {
        "id": "xSfMT5lEWxeE"
      }
    },
    {
      "cell_type": "code",
      "source": [
        "pipeline = Pipeline([\n",
        "    ('preprocessor', preprocessor),\n",
        "    ('classifier', DecisionTreeClassifier(random_state=42, class_weight='balanced'))\n",
        "])"
      ],
      "metadata": {
        "id": "SPP0BxzsWpVd"
      },
      "execution_count": null,
      "outputs": []
    },
    {
      "cell_type": "markdown",
      "source": [
        "## Grid search parameters\n"
      ],
      "metadata": {
        "id": "vanhByLJW5Mg"
      }
    },
    {
      "cell_type": "code",
      "source": [
        "param_grid = {\n",
        "    'classifier__max_depth': [3, 5, 7, None],\n",
        "    'classifier__min_samples_split': [2, 5, 10],\n",
        "    'classifier__min_samples_leaf': [1, 2, 4],\n",
        "    'classifier__criterion': ['gini', 'entropy']\n",
        "}"
      ],
      "metadata": {
        "id": "DymjfzGIW3bh"
      },
      "execution_count": null,
      "outputs": []
    },
    {
      "cell_type": "markdown",
      "source": [
        "### Grid search\n"
      ],
      "metadata": {
        "id": "vseDUpOsXPMo"
      }
    },
    {
      "cell_type": "code",
      "source": [
        "grid_search = GridSearchCV(pipeline, param_grid, cv=3, scoring='f1', n_jobs=-1, error_score='raise')"
      ],
      "metadata": {
        "id": "7yrFPfOzXM2U"
      },
      "execution_count": null,
      "outputs": []
    },
    {
      "cell_type": "code",
      "source": [
        "# Fit the model\n",
        "grid_search.fit(X_train, y_train)"
      ],
      "metadata": {
        "colab": {
          "base_uri": "https://localhost:8080/",
          "height": 298
        },
        "id": "VENDvyIqiVJo",
        "outputId": "f71d1b5b-9f3a-43f1-95cc-a1659a4c12a9"
      },
      "execution_count": null,
      "outputs": [
        {
          "output_type": "execute_result",
          "data": {
            "text/plain": [
              "GridSearchCV(cv=3, error_score='raise',\n",
              "             estimator=Pipeline(steps=[('preprocessor',\n",
              "                                        ColumnTransformer(transformers=[('cat_onehot',\n",
              "                                                                         OneHotEncoder(handle_unknown='ignore'),\n",
              "                                                                         ['AP006_clean',\n",
              "                                                                          'MB005_cat',\n",
              "                                                                          'AP001_cat',\n",
              "                                                                          'CR009_cat',\n",
              "                                                                          'PA022_cat',\n",
              "                                                                          'total_queries_cat',\n",
              "                                                                          'AP008',\n",
              "                                                                          'CR012'])])),\n",
              "                                       ('classifier',\n",
              "                                        DecisionTreeClassifier(class_weight='balanced',\n",
              "                                                               random_state=42))]),\n",
              "             n_jobs=-1,\n",
              "             param_grid={'classifier__criterion': ['gini', 'entropy'],\n",
              "                         'classifier__max_depth': [3, 5, 7, None],\n",
              "                         'classifier__min_samples_leaf': [1, 2, 4],\n",
              "                         'classifier__min_samples_split': [2, 5, 10]},\n",
              "             scoring='f1')"
            ],
            "text/html": [
              "<style>#sk-container-id-1 {\n",
              "  /* Definition of color scheme common for light and dark mode */\n",
              "  --sklearn-color-text: #000;\n",
              "  --sklearn-color-text-muted: #666;\n",
              "  --sklearn-color-line: gray;\n",
              "  /* Definition of color scheme for unfitted estimators */\n",
              "  --sklearn-color-unfitted-level-0: #fff5e6;\n",
              "  --sklearn-color-unfitted-level-1: #f6e4d2;\n",
              "  --sklearn-color-unfitted-level-2: #ffe0b3;\n",
              "  --sklearn-color-unfitted-level-3: chocolate;\n",
              "  /* Definition of color scheme for fitted estimators */\n",
              "  --sklearn-color-fitted-level-0: #f0f8ff;\n",
              "  --sklearn-color-fitted-level-1: #d4ebff;\n",
              "  --sklearn-color-fitted-level-2: #b3dbfd;\n",
              "  --sklearn-color-fitted-level-3: cornflowerblue;\n",
              "\n",
              "  /* Specific color for light theme */\n",
              "  --sklearn-color-text-on-default-background: var(--sg-text-color, var(--theme-code-foreground, var(--jp-content-font-color1, black)));\n",
              "  --sklearn-color-background: var(--sg-background-color, var(--theme-background, var(--jp-layout-color0, white)));\n",
              "  --sklearn-color-border-box: var(--sg-text-color, var(--theme-code-foreground, var(--jp-content-font-color1, black)));\n",
              "  --sklearn-color-icon: #696969;\n",
              "\n",
              "  @media (prefers-color-scheme: dark) {\n",
              "    /* Redefinition of color scheme for dark theme */\n",
              "    --sklearn-color-text-on-default-background: var(--sg-text-color, var(--theme-code-foreground, var(--jp-content-font-color1, white)));\n",
              "    --sklearn-color-background: var(--sg-background-color, var(--theme-background, var(--jp-layout-color0, #111)));\n",
              "    --sklearn-color-border-box: var(--sg-text-color, var(--theme-code-foreground, var(--jp-content-font-color1, white)));\n",
              "    --sklearn-color-icon: #878787;\n",
              "  }\n",
              "}\n",
              "\n",
              "#sk-container-id-1 {\n",
              "  color: var(--sklearn-color-text);\n",
              "}\n",
              "\n",
              "#sk-container-id-1 pre {\n",
              "  padding: 0;\n",
              "}\n",
              "\n",
              "#sk-container-id-1 input.sk-hidden--visually {\n",
              "  border: 0;\n",
              "  clip: rect(1px 1px 1px 1px);\n",
              "  clip: rect(1px, 1px, 1px, 1px);\n",
              "  height: 1px;\n",
              "  margin: -1px;\n",
              "  overflow: hidden;\n",
              "  padding: 0;\n",
              "  position: absolute;\n",
              "  width: 1px;\n",
              "}\n",
              "\n",
              "#sk-container-id-1 div.sk-dashed-wrapped {\n",
              "  border: 1px dashed var(--sklearn-color-line);\n",
              "  margin: 0 0.4em 0.5em 0.4em;\n",
              "  box-sizing: border-box;\n",
              "  padding-bottom: 0.4em;\n",
              "  background-color: var(--sklearn-color-background);\n",
              "}\n",
              "\n",
              "#sk-container-id-1 div.sk-container {\n",
              "  /* jupyter's `normalize.less` sets `[hidden] { display: none; }`\n",
              "     but bootstrap.min.css set `[hidden] { display: none !important; }`\n",
              "     so we also need the `!important` here to be able to override the\n",
              "     default hidden behavior on the sphinx rendered scikit-learn.org.\n",
              "     See: https://github.com/scikit-learn/scikit-learn/issues/21755 */\n",
              "  display: inline-block !important;\n",
              "  position: relative;\n",
              "}\n",
              "\n",
              "#sk-container-id-1 div.sk-text-repr-fallback {\n",
              "  display: none;\n",
              "}\n",
              "\n",
              "div.sk-parallel-item,\n",
              "div.sk-serial,\n",
              "div.sk-item {\n",
              "  /* draw centered vertical line to link estimators */\n",
              "  background-image: linear-gradient(var(--sklearn-color-text-on-default-background), var(--sklearn-color-text-on-default-background));\n",
              "  background-size: 2px 100%;\n",
              "  background-repeat: no-repeat;\n",
              "  background-position: center center;\n",
              "}\n",
              "\n",
              "/* Parallel-specific style estimator block */\n",
              "\n",
              "#sk-container-id-1 div.sk-parallel-item::after {\n",
              "  content: \"\";\n",
              "  width: 100%;\n",
              "  border-bottom: 2px solid var(--sklearn-color-text-on-default-background);\n",
              "  flex-grow: 1;\n",
              "}\n",
              "\n",
              "#sk-container-id-1 div.sk-parallel {\n",
              "  display: flex;\n",
              "  align-items: stretch;\n",
              "  justify-content: center;\n",
              "  background-color: var(--sklearn-color-background);\n",
              "  position: relative;\n",
              "}\n",
              "\n",
              "#sk-container-id-1 div.sk-parallel-item {\n",
              "  display: flex;\n",
              "  flex-direction: column;\n",
              "}\n",
              "\n",
              "#sk-container-id-1 div.sk-parallel-item:first-child::after {\n",
              "  align-self: flex-end;\n",
              "  width: 50%;\n",
              "}\n",
              "\n",
              "#sk-container-id-1 div.sk-parallel-item:last-child::after {\n",
              "  align-self: flex-start;\n",
              "  width: 50%;\n",
              "}\n",
              "\n",
              "#sk-container-id-1 div.sk-parallel-item:only-child::after {\n",
              "  width: 0;\n",
              "}\n",
              "\n",
              "/* Serial-specific style estimator block */\n",
              "\n",
              "#sk-container-id-1 div.sk-serial {\n",
              "  display: flex;\n",
              "  flex-direction: column;\n",
              "  align-items: center;\n",
              "  background-color: var(--sklearn-color-background);\n",
              "  padding-right: 1em;\n",
              "  padding-left: 1em;\n",
              "}\n",
              "\n",
              "\n",
              "/* Toggleable style: style used for estimator/Pipeline/ColumnTransformer box that is\n",
              "clickable and can be expanded/collapsed.\n",
              "- Pipeline and ColumnTransformer use this feature and define the default style\n",
              "- Estimators will overwrite some part of the style using the `sk-estimator` class\n",
              "*/\n",
              "\n",
              "/* Pipeline and ColumnTransformer style (default) */\n",
              "\n",
              "#sk-container-id-1 div.sk-toggleable {\n",
              "  /* Default theme specific background. It is overwritten whether we have a\n",
              "  specific estimator or a Pipeline/ColumnTransformer */\n",
              "  background-color: var(--sklearn-color-background);\n",
              "}\n",
              "\n",
              "/* Toggleable label */\n",
              "#sk-container-id-1 label.sk-toggleable__label {\n",
              "  cursor: pointer;\n",
              "  display: flex;\n",
              "  width: 100%;\n",
              "  margin-bottom: 0;\n",
              "  padding: 0.5em;\n",
              "  box-sizing: border-box;\n",
              "  text-align: center;\n",
              "  align-items: start;\n",
              "  justify-content: space-between;\n",
              "  gap: 0.5em;\n",
              "}\n",
              "\n",
              "#sk-container-id-1 label.sk-toggleable__label .caption {\n",
              "  font-size: 0.6rem;\n",
              "  font-weight: lighter;\n",
              "  color: var(--sklearn-color-text-muted);\n",
              "}\n",
              "\n",
              "#sk-container-id-1 label.sk-toggleable__label-arrow:before {\n",
              "  /* Arrow on the left of the label */\n",
              "  content: \"▸\";\n",
              "  float: left;\n",
              "  margin-right: 0.25em;\n",
              "  color: var(--sklearn-color-icon);\n",
              "}\n",
              "\n",
              "#sk-container-id-1 label.sk-toggleable__label-arrow:hover:before {\n",
              "  color: var(--sklearn-color-text);\n",
              "}\n",
              "\n",
              "/* Toggleable content - dropdown */\n",
              "\n",
              "#sk-container-id-1 div.sk-toggleable__content {\n",
              "  max-height: 0;\n",
              "  max-width: 0;\n",
              "  overflow: hidden;\n",
              "  text-align: left;\n",
              "  /* unfitted */\n",
              "  background-color: var(--sklearn-color-unfitted-level-0);\n",
              "}\n",
              "\n",
              "#sk-container-id-1 div.sk-toggleable__content.fitted {\n",
              "  /* fitted */\n",
              "  background-color: var(--sklearn-color-fitted-level-0);\n",
              "}\n",
              "\n",
              "#sk-container-id-1 div.sk-toggleable__content pre {\n",
              "  margin: 0.2em;\n",
              "  border-radius: 0.25em;\n",
              "  color: var(--sklearn-color-text);\n",
              "  /* unfitted */\n",
              "  background-color: var(--sklearn-color-unfitted-level-0);\n",
              "}\n",
              "\n",
              "#sk-container-id-1 div.sk-toggleable__content.fitted pre {\n",
              "  /* unfitted */\n",
              "  background-color: var(--sklearn-color-fitted-level-0);\n",
              "}\n",
              "\n",
              "#sk-container-id-1 input.sk-toggleable__control:checked~div.sk-toggleable__content {\n",
              "  /* Expand drop-down */\n",
              "  max-height: 200px;\n",
              "  max-width: 100%;\n",
              "  overflow: auto;\n",
              "}\n",
              "\n",
              "#sk-container-id-1 input.sk-toggleable__control:checked~label.sk-toggleable__label-arrow:before {\n",
              "  content: \"▾\";\n",
              "}\n",
              "\n",
              "/* Pipeline/ColumnTransformer-specific style */\n",
              "\n",
              "#sk-container-id-1 div.sk-label input.sk-toggleable__control:checked~label.sk-toggleable__label {\n",
              "  color: var(--sklearn-color-text);\n",
              "  background-color: var(--sklearn-color-unfitted-level-2);\n",
              "}\n",
              "\n",
              "#sk-container-id-1 div.sk-label.fitted input.sk-toggleable__control:checked~label.sk-toggleable__label {\n",
              "  background-color: var(--sklearn-color-fitted-level-2);\n",
              "}\n",
              "\n",
              "/* Estimator-specific style */\n",
              "\n",
              "/* Colorize estimator box */\n",
              "#sk-container-id-1 div.sk-estimator input.sk-toggleable__control:checked~label.sk-toggleable__label {\n",
              "  /* unfitted */\n",
              "  background-color: var(--sklearn-color-unfitted-level-2);\n",
              "}\n",
              "\n",
              "#sk-container-id-1 div.sk-estimator.fitted input.sk-toggleable__control:checked~label.sk-toggleable__label {\n",
              "  /* fitted */\n",
              "  background-color: var(--sklearn-color-fitted-level-2);\n",
              "}\n",
              "\n",
              "#sk-container-id-1 div.sk-label label.sk-toggleable__label,\n",
              "#sk-container-id-1 div.sk-label label {\n",
              "  /* The background is the default theme color */\n",
              "  color: var(--sklearn-color-text-on-default-background);\n",
              "}\n",
              "\n",
              "/* On hover, darken the color of the background */\n",
              "#sk-container-id-1 div.sk-label:hover label.sk-toggleable__label {\n",
              "  color: var(--sklearn-color-text);\n",
              "  background-color: var(--sklearn-color-unfitted-level-2);\n",
              "}\n",
              "\n",
              "/* Label box, darken color on hover, fitted */\n",
              "#sk-container-id-1 div.sk-label.fitted:hover label.sk-toggleable__label.fitted {\n",
              "  color: var(--sklearn-color-text);\n",
              "  background-color: var(--sklearn-color-fitted-level-2);\n",
              "}\n",
              "\n",
              "/* Estimator label */\n",
              "\n",
              "#sk-container-id-1 div.sk-label label {\n",
              "  font-family: monospace;\n",
              "  font-weight: bold;\n",
              "  display: inline-block;\n",
              "  line-height: 1.2em;\n",
              "}\n",
              "\n",
              "#sk-container-id-1 div.sk-label-container {\n",
              "  text-align: center;\n",
              "}\n",
              "\n",
              "/* Estimator-specific */\n",
              "#sk-container-id-1 div.sk-estimator {\n",
              "  font-family: monospace;\n",
              "  border: 1px dotted var(--sklearn-color-border-box);\n",
              "  border-radius: 0.25em;\n",
              "  box-sizing: border-box;\n",
              "  margin-bottom: 0.5em;\n",
              "  /* unfitted */\n",
              "  background-color: var(--sklearn-color-unfitted-level-0);\n",
              "}\n",
              "\n",
              "#sk-container-id-1 div.sk-estimator.fitted {\n",
              "  /* fitted */\n",
              "  background-color: var(--sklearn-color-fitted-level-0);\n",
              "}\n",
              "\n",
              "/* on hover */\n",
              "#sk-container-id-1 div.sk-estimator:hover {\n",
              "  /* unfitted */\n",
              "  background-color: var(--sklearn-color-unfitted-level-2);\n",
              "}\n",
              "\n",
              "#sk-container-id-1 div.sk-estimator.fitted:hover {\n",
              "  /* fitted */\n",
              "  background-color: var(--sklearn-color-fitted-level-2);\n",
              "}\n",
              "\n",
              "/* Specification for estimator info (e.g. \"i\" and \"?\") */\n",
              "\n",
              "/* Common style for \"i\" and \"?\" */\n",
              "\n",
              ".sk-estimator-doc-link,\n",
              "a:link.sk-estimator-doc-link,\n",
              "a:visited.sk-estimator-doc-link {\n",
              "  float: right;\n",
              "  font-size: smaller;\n",
              "  line-height: 1em;\n",
              "  font-family: monospace;\n",
              "  background-color: var(--sklearn-color-background);\n",
              "  border-radius: 1em;\n",
              "  height: 1em;\n",
              "  width: 1em;\n",
              "  text-decoration: none !important;\n",
              "  margin-left: 0.5em;\n",
              "  text-align: center;\n",
              "  /* unfitted */\n",
              "  border: var(--sklearn-color-unfitted-level-1) 1pt solid;\n",
              "  color: var(--sklearn-color-unfitted-level-1);\n",
              "}\n",
              "\n",
              ".sk-estimator-doc-link.fitted,\n",
              "a:link.sk-estimator-doc-link.fitted,\n",
              "a:visited.sk-estimator-doc-link.fitted {\n",
              "  /* fitted */\n",
              "  border: var(--sklearn-color-fitted-level-1) 1pt solid;\n",
              "  color: var(--sklearn-color-fitted-level-1);\n",
              "}\n",
              "\n",
              "/* On hover */\n",
              "div.sk-estimator:hover .sk-estimator-doc-link:hover,\n",
              ".sk-estimator-doc-link:hover,\n",
              "div.sk-label-container:hover .sk-estimator-doc-link:hover,\n",
              ".sk-estimator-doc-link:hover {\n",
              "  /* unfitted */\n",
              "  background-color: var(--sklearn-color-unfitted-level-3);\n",
              "  color: var(--sklearn-color-background);\n",
              "  text-decoration: none;\n",
              "}\n",
              "\n",
              "div.sk-estimator.fitted:hover .sk-estimator-doc-link.fitted:hover,\n",
              ".sk-estimator-doc-link.fitted:hover,\n",
              "div.sk-label-container:hover .sk-estimator-doc-link.fitted:hover,\n",
              ".sk-estimator-doc-link.fitted:hover {\n",
              "  /* fitted */\n",
              "  background-color: var(--sklearn-color-fitted-level-3);\n",
              "  color: var(--sklearn-color-background);\n",
              "  text-decoration: none;\n",
              "}\n",
              "\n",
              "/* Span, style for the box shown on hovering the info icon */\n",
              ".sk-estimator-doc-link span {\n",
              "  display: none;\n",
              "  z-index: 9999;\n",
              "  position: relative;\n",
              "  font-weight: normal;\n",
              "  right: .2ex;\n",
              "  padding: .5ex;\n",
              "  margin: .5ex;\n",
              "  width: min-content;\n",
              "  min-width: 20ex;\n",
              "  max-width: 50ex;\n",
              "  color: var(--sklearn-color-text);\n",
              "  box-shadow: 2pt 2pt 4pt #999;\n",
              "  /* unfitted */\n",
              "  background: var(--sklearn-color-unfitted-level-0);\n",
              "  border: .5pt solid var(--sklearn-color-unfitted-level-3);\n",
              "}\n",
              "\n",
              ".sk-estimator-doc-link.fitted span {\n",
              "  /* fitted */\n",
              "  background: var(--sklearn-color-fitted-level-0);\n",
              "  border: var(--sklearn-color-fitted-level-3);\n",
              "}\n",
              "\n",
              ".sk-estimator-doc-link:hover span {\n",
              "  display: block;\n",
              "}\n",
              "\n",
              "/* \"?\"-specific style due to the `<a>` HTML tag */\n",
              "\n",
              "#sk-container-id-1 a.estimator_doc_link {\n",
              "  float: right;\n",
              "  font-size: 1rem;\n",
              "  line-height: 1em;\n",
              "  font-family: monospace;\n",
              "  background-color: var(--sklearn-color-background);\n",
              "  border-radius: 1rem;\n",
              "  height: 1rem;\n",
              "  width: 1rem;\n",
              "  text-decoration: none;\n",
              "  /* unfitted */\n",
              "  color: var(--sklearn-color-unfitted-level-1);\n",
              "  border: var(--sklearn-color-unfitted-level-1) 1pt solid;\n",
              "}\n",
              "\n",
              "#sk-container-id-1 a.estimator_doc_link.fitted {\n",
              "  /* fitted */\n",
              "  border: var(--sklearn-color-fitted-level-1) 1pt solid;\n",
              "  color: var(--sklearn-color-fitted-level-1);\n",
              "}\n",
              "\n",
              "/* On hover */\n",
              "#sk-container-id-1 a.estimator_doc_link:hover {\n",
              "  /* unfitted */\n",
              "  background-color: var(--sklearn-color-unfitted-level-3);\n",
              "  color: var(--sklearn-color-background);\n",
              "  text-decoration: none;\n",
              "}\n",
              "\n",
              "#sk-container-id-1 a.estimator_doc_link.fitted:hover {\n",
              "  /* fitted */\n",
              "  background-color: var(--sklearn-color-fitted-level-3);\n",
              "}\n",
              "</style><div id=\"sk-container-id-1\" class=\"sk-top-container\"><div class=\"sk-text-repr-fallback\"><pre>GridSearchCV(cv=3, error_score=&#x27;raise&#x27;,\n",
              "             estimator=Pipeline(steps=[(&#x27;preprocessor&#x27;,\n",
              "                                        ColumnTransformer(transformers=[(&#x27;cat_onehot&#x27;,\n",
              "                                                                         OneHotEncoder(handle_unknown=&#x27;ignore&#x27;),\n",
              "                                                                         [&#x27;AP006_clean&#x27;,\n",
              "                                                                          &#x27;MB005_cat&#x27;,\n",
              "                                                                          &#x27;AP001_cat&#x27;,\n",
              "                                                                          &#x27;CR009_cat&#x27;,\n",
              "                                                                          &#x27;PA022_cat&#x27;,\n",
              "                                                                          &#x27;total_queries_cat&#x27;,\n",
              "                                                                          &#x27;AP008&#x27;,\n",
              "                                                                          &#x27;CR012&#x27;])])),\n",
              "                                       (&#x27;classifier&#x27;,\n",
              "                                        DecisionTreeClassifier(class_weight=&#x27;balanced&#x27;,\n",
              "                                                               random_state=42))]),\n",
              "             n_jobs=-1,\n",
              "             param_grid={&#x27;classifier__criterion&#x27;: [&#x27;gini&#x27;, &#x27;entropy&#x27;],\n",
              "                         &#x27;classifier__max_depth&#x27;: [3, 5, 7, None],\n",
              "                         &#x27;classifier__min_samples_leaf&#x27;: [1, 2, 4],\n",
              "                         &#x27;classifier__min_samples_split&#x27;: [2, 5, 10]},\n",
              "             scoring=&#x27;f1&#x27;)</pre><b>In a Jupyter environment, please rerun this cell to show the HTML representation or trust the notebook. <br />On GitHub, the HTML representation is unable to render, please try loading this page with nbviewer.org.</b></div><div class=\"sk-container\" hidden><div class=\"sk-item sk-dashed-wrapped\"><div class=\"sk-label-container\"><div class=\"sk-label fitted sk-toggleable\"><input class=\"sk-toggleable__control sk-hidden--visually\" id=\"sk-estimator-id-1\" type=\"checkbox\" ><label for=\"sk-estimator-id-1\" class=\"sk-toggleable__label fitted sk-toggleable__label-arrow\"><div><div>GridSearchCV</div></div><div><a class=\"sk-estimator-doc-link fitted\" rel=\"noreferrer\" target=\"_blank\" href=\"https://scikit-learn.org/1.6/modules/generated/sklearn.model_selection.GridSearchCV.html\">?<span>Documentation for GridSearchCV</span></a><span class=\"sk-estimator-doc-link fitted\">i<span>Fitted</span></span></div></label><div class=\"sk-toggleable__content fitted\"><pre>GridSearchCV(cv=3, error_score=&#x27;raise&#x27;,\n",
              "             estimator=Pipeline(steps=[(&#x27;preprocessor&#x27;,\n",
              "                                        ColumnTransformer(transformers=[(&#x27;cat_onehot&#x27;,\n",
              "                                                                         OneHotEncoder(handle_unknown=&#x27;ignore&#x27;),\n",
              "                                                                         [&#x27;AP006_clean&#x27;,\n",
              "                                                                          &#x27;MB005_cat&#x27;,\n",
              "                                                                          &#x27;AP001_cat&#x27;,\n",
              "                                                                          &#x27;CR009_cat&#x27;,\n",
              "                                                                          &#x27;PA022_cat&#x27;,\n",
              "                                                                          &#x27;total_queries_cat&#x27;,\n",
              "                                                                          &#x27;AP008&#x27;,\n",
              "                                                                          &#x27;CR012&#x27;])])),\n",
              "                                       (&#x27;classifier&#x27;,\n",
              "                                        DecisionTreeClassifier(class_weight=&#x27;balanced&#x27;,\n",
              "                                                               random_state=42))]),\n",
              "             n_jobs=-1,\n",
              "             param_grid={&#x27;classifier__criterion&#x27;: [&#x27;gini&#x27;, &#x27;entropy&#x27;],\n",
              "                         &#x27;classifier__max_depth&#x27;: [3, 5, 7, None],\n",
              "                         &#x27;classifier__min_samples_leaf&#x27;: [1, 2, 4],\n",
              "                         &#x27;classifier__min_samples_split&#x27;: [2, 5, 10]},\n",
              "             scoring=&#x27;f1&#x27;)</pre></div> </div></div><div class=\"sk-parallel\"><div class=\"sk-parallel-item\"><div class=\"sk-item\"><div class=\"sk-label-container\"><div class=\"sk-label fitted sk-toggleable\"><input class=\"sk-toggleable__control sk-hidden--visually\" id=\"sk-estimator-id-2\" type=\"checkbox\" ><label for=\"sk-estimator-id-2\" class=\"sk-toggleable__label fitted sk-toggleable__label-arrow\"><div><div>best_estimator_: Pipeline</div></div></label><div class=\"sk-toggleable__content fitted\"><pre>Pipeline(steps=[(&#x27;preprocessor&#x27;,\n",
              "                 ColumnTransformer(transformers=[(&#x27;cat_onehot&#x27;,\n",
              "                                                  OneHotEncoder(handle_unknown=&#x27;ignore&#x27;),\n",
              "                                                  [&#x27;AP006_clean&#x27;, &#x27;MB005_cat&#x27;,\n",
              "                                                   &#x27;AP001_cat&#x27;, &#x27;CR009_cat&#x27;,\n",
              "                                                   &#x27;PA022_cat&#x27;,\n",
              "                                                   &#x27;total_queries_cat&#x27;, &#x27;AP008&#x27;,\n",
              "                                                   &#x27;CR012&#x27;])])),\n",
              "                (&#x27;classifier&#x27;,\n",
              "                 DecisionTreeClassifier(class_weight=&#x27;balanced&#x27;,\n",
              "                                        criterion=&#x27;entropy&#x27;, max_depth=5,\n",
              "                                        min_samples_leaf=4, random_state=42))])</pre></div> </div></div><div class=\"sk-serial\"><div class=\"sk-item\"><div class=\"sk-serial\"><div class=\"sk-item sk-dashed-wrapped\"><div class=\"sk-label-container\"><div class=\"sk-label fitted sk-toggleable\"><input class=\"sk-toggleable__control sk-hidden--visually\" id=\"sk-estimator-id-3\" type=\"checkbox\" ><label for=\"sk-estimator-id-3\" class=\"sk-toggleable__label fitted sk-toggleable__label-arrow\"><div><div>preprocessor: ColumnTransformer</div></div><div><a class=\"sk-estimator-doc-link fitted\" rel=\"noreferrer\" target=\"_blank\" href=\"https://scikit-learn.org/1.6/modules/generated/sklearn.compose.ColumnTransformer.html\">?<span>Documentation for preprocessor: ColumnTransformer</span></a></div></label><div class=\"sk-toggleable__content fitted\"><pre>ColumnTransformer(transformers=[(&#x27;cat_onehot&#x27;,\n",
              "                                 OneHotEncoder(handle_unknown=&#x27;ignore&#x27;),\n",
              "                                 [&#x27;AP006_clean&#x27;, &#x27;MB005_cat&#x27;, &#x27;AP001_cat&#x27;,\n",
              "                                  &#x27;CR009_cat&#x27;, &#x27;PA022_cat&#x27;, &#x27;total_queries_cat&#x27;,\n",
              "                                  &#x27;AP008&#x27;, &#x27;CR012&#x27;])])</pre></div> </div></div><div class=\"sk-parallel\"><div class=\"sk-parallel-item\"><div class=\"sk-item\"><div class=\"sk-label-container\"><div class=\"sk-label fitted sk-toggleable\"><input class=\"sk-toggleable__control sk-hidden--visually\" id=\"sk-estimator-id-4\" type=\"checkbox\" ><label for=\"sk-estimator-id-4\" class=\"sk-toggleable__label fitted sk-toggleable__label-arrow\"><div><div>cat_onehot</div></div></label><div class=\"sk-toggleable__content fitted\"><pre>[&#x27;AP006_clean&#x27;, &#x27;MB005_cat&#x27;, &#x27;AP001_cat&#x27;, &#x27;CR009_cat&#x27;, &#x27;PA022_cat&#x27;, &#x27;total_queries_cat&#x27;, &#x27;AP008&#x27;, &#x27;CR012&#x27;]</pre></div> </div></div><div class=\"sk-serial\"><div class=\"sk-item\"><div class=\"sk-estimator fitted sk-toggleable\"><input class=\"sk-toggleable__control sk-hidden--visually\" id=\"sk-estimator-id-5\" type=\"checkbox\" ><label for=\"sk-estimator-id-5\" class=\"sk-toggleable__label fitted sk-toggleable__label-arrow\"><div><div>OneHotEncoder</div></div><div><a class=\"sk-estimator-doc-link fitted\" rel=\"noreferrer\" target=\"_blank\" href=\"https://scikit-learn.org/1.6/modules/generated/sklearn.preprocessing.OneHotEncoder.html\">?<span>Documentation for OneHotEncoder</span></a></div></label><div class=\"sk-toggleable__content fitted\"><pre>OneHotEncoder(handle_unknown=&#x27;ignore&#x27;)</pre></div> </div></div></div></div></div></div></div><div class=\"sk-item\"><div class=\"sk-estimator fitted sk-toggleable\"><input class=\"sk-toggleable__control sk-hidden--visually\" id=\"sk-estimator-id-6\" type=\"checkbox\" ><label for=\"sk-estimator-id-6\" class=\"sk-toggleable__label fitted sk-toggleable__label-arrow\"><div><div>DecisionTreeClassifier</div></div><div><a class=\"sk-estimator-doc-link fitted\" rel=\"noreferrer\" target=\"_blank\" href=\"https://scikit-learn.org/1.6/modules/generated/sklearn.tree.DecisionTreeClassifier.html\">?<span>Documentation for DecisionTreeClassifier</span></a></div></label><div class=\"sk-toggleable__content fitted\"><pre>DecisionTreeClassifier(class_weight=&#x27;balanced&#x27;, criterion=&#x27;entropy&#x27;,\n",
              "                       max_depth=5, min_samples_leaf=4, random_state=42)</pre></div> </div></div></div></div></div></div></div></div></div></div></div>"
            ]
          },
          "metadata": {},
          "execution_count": 21
        }
      ]
    },
    {
      "cell_type": "code",
      "source": [
        "# Results\n",
        "print(\"Best parameters:\", grid_search.best_params_)\n",
        "print(\"Best cross-validation F1-score:\", grid_search.best_score_)"
      ],
      "metadata": {
        "colab": {
          "base_uri": "https://localhost:8080/"
        },
        "id": "ZP-5JMEMXYxk",
        "outputId": "b21dc7a0-a207-4e8c-c733-90b0d6c14381"
      },
      "execution_count": null,
      "outputs": [
        {
          "output_type": "stream",
          "name": "stdout",
          "text": [
            "Best parameters: {'classifier__criterion': 'entropy', 'classifier__max_depth': 5, 'classifier__min_samples_leaf': 4, 'classifier__min_samples_split': 2}\n",
            "Best cross-validation F1-score: 0.3406130472548184\n"
          ]
        }
      ]
    },
    {
      "cell_type": "code",
      "source": [
        "# Test set performance\n",
        "y_pred = grid_search.predict(X_test)\n",
        "print(\"\\nTest set performance:\")\n",
        "print(classification_report(y_test, y_pred))"
      ],
      "metadata": {
        "colab": {
          "base_uri": "https://localhost:8080/"
        },
        "id": "VfPXIZvDixOx",
        "outputId": "c72ec6e0-2750-44ae-b8c5-004fbb258a57"
      },
      "execution_count": null,
      "outputs": [
        {
          "output_type": "stream",
          "name": "stdout",
          "text": [
            "\n",
            "Test set performance:\n",
            "              precision    recall  f1-score   support\n",
            "\n",
            "           0       0.85      0.43      0.57     12902\n",
            "           1       0.22      0.69      0.34      3098\n",
            "\n",
            "    accuracy                           0.48     16000\n",
            "   macro avg       0.54      0.56      0.46     16000\n",
            "weighted avg       0.73      0.48      0.53     16000\n",
            "\n"
          ]
        }
      ]
    },
    {
      "cell_type": "code",
      "source": [
        "# Feature importance\n",
        "feature_importance = grid_search.best_estimator_.named_steps['classifier'].feature_importances_\n",
        "feature_names = grid_search.best_estimator_.named_steps['preprocessor'].get_feature_names_out()\n",
        "for name, imp in zip(feature_names, feature_importance):\n",
        "    if imp > 0:\n",
        "        print(f\"{name}: {imp:.4f}\")"
      ],
      "metadata": {
        "colab": {
          "base_uri": "https://localhost:8080/"
        },
        "id": "Omn51iTji0kW",
        "outputId": "1cf613ef-1cf7-402f-9f2e-323084473b1c"
      },
      "execution_count": null,
      "outputs": [
        {
          "output_type": "stream",
          "name": "stdout",
          "text": [
            "cat_onehot__AP006_clean_android: 0.0744\n",
            "cat_onehot__AP006_clean_h5: 0.0455\n",
            "cat_onehot__AP006_clean_ios: 0.0072\n",
            "cat_onehot__MB005_cat_established: 0.0429\n",
            "cat_onehot__MB005_cat_old: 0.1210\n",
            "cat_onehot__MB005_cat_recent: 0.0061\n",
            "cat_onehot__MB005_cat_nan: 0.0033\n",
            "cat_onehot__AP001_cat_middle_aged: 0.0016\n",
            "cat_onehot__AP001_cat_senior: 0.0052\n",
            "cat_onehot__CR009_cat_high: 0.0243\n",
            "cat_onehot__CR009_cat_medium: 0.0103\n",
            "cat_onehot__PA022_cat_long_term: 0.2397\n",
            "cat_onehot__PA022_cat_not_applicable: 0.0032\n",
            "cat_onehot__PA022_cat_recent: 0.0080\n",
            "cat_onehot__PA022_cat_short_term: 0.0316\n",
            "cat_onehot__total_queries_cat_high: 0.2894\n",
            "cat_onehot__total_queries_cat_medium: 0.0215\n",
            "cat_onehot__total_queries_cat_none: 0.0012\n",
            "cat_onehot__AP008_1: 0.0341\n",
            "cat_onehot__AP008_2: 0.0295\n"
          ]
        }
      ]
    },
    {
      "cell_type": "code",
      "source": [
        "import pandas as pd\n",
        "import matplotlib.pyplot as plt\n",
        "\n",
        "def MyVarImp(grid_search, X_train):\n",
        "    \"\"\"\n",
        "    Calculate and visualize feature importance for a DecisionTreeClassifier in a GridSearchCV pipeline.\n",
        "\n",
        "    Parameters:\n",
        "    - grid_search: Fitted GridSearchCV object containing the best estimator (Pipeline with DecisionTreeClassifier).\n",
        "    - X_train: Training data (DataFrame) used to fit the model, for context.\n",
        "\n",
        "    Returns:\n",
        "    - Displays a horizontal bar plot of the top 10 most important features.\n",
        "    \"\"\"\n",
        "    # Get the fitted DecisionTreeClassifier from the best estimator\n",
        "    model = grid_search.best_estimator_.named_steps['classifier']\n",
        "\n",
        "    # Get feature importance\n",
        "    importance = model.feature_importances_\n",
        "\n",
        "    # Get feature names from the fitted ColumnTransformer\n",
        "    feature_names = grid_search.best_estimator_.named_steps['preprocessor'].get_feature_names_out()\n",
        "\n",
        "    # Create a DataFrame for better visualization\n",
        "    importance_df = pd.DataFrame({'Feature': feature_names, 'Importance': importance})\n",
        "\n",
        "    # Sort by importance in descending order and select top 10\n",
        "    top10 = importance_df.sort_values(by='Importance', ascending=False).head(10)\n",
        "\n",
        "    # Plot feature importance for the top 10 variables\n",
        "    plt.figure(figsize=(10, 6))\n",
        "    plt.barh(top10['Feature'], top10['Importance'], color='blue')\n",
        "    plt.xlabel('Importance')\n",
        "    plt.ylabel('Feature')\n",
        "    plt.title('Top 10 Feature Importance in Decision Tree')\n",
        "    plt.axvline(x=0, color='gray', linestyle='--', linewidth=1)\n",
        "    plt.gca().invert_yaxis()  # Highest importance at the top\n",
        "    plt.show()\n",
        "\n",
        "    # Return the top 10 DataFrame for reference\n",
        "    return top10\n",
        "\n",
        "# Example usage:\n",
        "# Assuming grid_search is the fitted GridSearchCV object and X_train is the training DataFrame\n",
        "top10_features = MyVarImp(grid_search, X_train)\n",
        "print(\"Top 10 Features:\\n\", top10_features)"
      ],
      "metadata": {
        "colab": {
          "base_uri": "https://localhost:8080/",
          "height": 778
        },
        "id": "FiqhmrC8UDDd",
        "outputId": "8793d7b6-30ca-4850-c848-4529b9f39b32"
      },
      "execution_count": null,
      "outputs": [
        {
          "output_type": "display_data",
          "data": {
            "text/plain": [
              "<Figure size 1000x600 with 1 Axes>"
            ],
            "image/png": "[encoded data removed]"
          },
          "metadata": {}
        },
        {
          "output_type": "stream",
          "name": "stdout",
          "text": [
            "Top 10 Features:\n",
            "                                Feature  Importance\n",
            "21  cat_onehot__total_queries_cat_high    0.289423\n",
            "16     cat_onehot__PA022_cat_long_term    0.239685\n",
            "5            cat_onehot__MB005_cat_old    0.121008\n",
            "0      cat_onehot__AP006_clean_android    0.074403\n",
            "2           cat_onehot__AP006_clean_h5    0.045497\n",
            "4    cat_onehot__MB005_cat_established    0.042923\n",
            "25                 cat_onehot__AP008_1    0.034103\n",
            "20    cat_onehot__PA022_cat_short_term    0.031566\n",
            "26                 cat_onehot__AP008_2    0.029508\n",
            "12          cat_onehot__CR009_cat_high    0.024296\n"
          ]
        }
      ]
    },
    {
      "cell_type": "markdown",
      "source": [
        "#**Summary of Relationships**\n",
        "\n",
        "The relationships between loan_default (Y) and the predictor variables(X), ranked by feature importance, are:\n",
        "1. total_queries_cat_high (Importance: 0.3750):\n",
        "    * Strong Positive Relationship: Many credit inquiries (>20) strongly increase default risk, likely indicating financial distress or credit-seeking behavior.\n",
        "2. PA022_cat_long_term (Importance: 0.2397):\n",
        "    * Positive Relationship: Older call activity (>30 days) is associated with higher default risk, possibly reflecting unresolved issues or disengagement.\n",
        "3. MB005_cat_old (Importance: 0.1210):\n",
        "    * Positive Relationship: Long phone tenure (>5 years) increases default risk, possibly due to risky demographics (e.g., older customers with financial strain).\n",
        "4. AP006_clean_android (Importance: 0.0744):\n",
        "    * Positive Relationship: Android users are more likely to default, likely due to demographic or behavioral factors (e.g., broader income range).\n",
        "5. AP006_clean_h5 (Importance: 0.0455):\n",
        "    * Positive Relationship: Web-based (H5) users have increased default risk, similar to Android users.\n",
        "6. MB005_cat_established (Importance: 0.0429):\n",
        "    * Positive Relationship: Moderate phone tenure (2-5 years) increases default risk, though less strongly than old.\n",
        "7. CR009_cat_high (Importance: 0.0243):\n",
        "    * Positive Relationship: Large credit amounts (>50000) increase default risk, reflecting financial overextension.\n",
        "8. CR009_cat_no_loans (Importance: 0.0103):\n",
        "    * Negative Relationship: No prior loans reduce default risk, indicating lower credit exposure.\n",
        "9. AP008_1 (Importance: 0.0065):\n",
        "    * Positive Relationship: AP008 = 1 weakly increases default risk, possibly a specific risk factor.\n",
        "10. MB005_cat_recent (Importance: 0.0061), AP001_cat_young (Importance: 0.0033), PA022_cat_not_applicable (Importance: 0.0032):\n",
        "    * Weak Positive Relationships: Recent phone tenure, young age, and not-applicable call status have minor effects, suggesting slight risk increases.\n",
        "11. CR012:\n",
        "    * Negligible Relationship: No significant impact on default risk.\n",
        "Comparison with Previous 33-Row Dataset\n",
        "The earlier analysis assumed a 33-row dataset, where CR009_cat_no_credit_history (0.3), PA022_cat_recent (0.25), AP006_clean_ios (0.15), and AP008_1 (0.1) were top features. The larger dataset (20,000 rows) shifts the focus to total_queries_cat_high, PA022_cat_long_term, and MB005_cat_old, reflecting:\n",
        "* Scale Effect: The larger dataset captures more robust patterns, with credit inquiries and call activity dominating.\n",
        "* Feature Differences: CR009_cat_no_credit_history and AP006_clean_ios are less important, possibly due to different distributions or more data revealing other patterns.\n",
        "* Model Stability: The larger dataset reduces overfitting, but the low F1-score (0.34 for loan_default=1) indicates challenges in predicting defaults.\n",
        "Limitations\n",
        "* Low F1-Score: The F1-score for loan_default=1 (0.34) suggests the model struggles to predict defaults accurately, possibly due to class imbalance (~19% defaults) or insufficient feature informativeness.\n",
        "* Feature Importance: Decision tree importance is based on impurity reduction, which may overemphasize certain features (e.g., total_queries_cat_high) in a small tree (max_depth=5).\n",
        "* Unmodeled Features: The 94 columns include raw features (e.g., AP001, CR009, TD columns) not used in the pipeline, which could reveal additional relationships."
      ],
      "metadata": {
        "id": "cCKxacdCYwOk"
      }
    }
  ]
}